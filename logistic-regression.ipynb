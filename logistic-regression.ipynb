{
 "cells": [
  {
   "cell_type": "code",
   "execution_count": 1,
   "metadata": {
    "pycharm": {
     "name": "#%%\n"
    }
   },
   "outputs": [],
   "source": [
    "import os\n",
    "import pickle\n",
    "\n",
    "import matplotlib.pyplot as plt\n",
    "import numpy as np\n",
    "import pandas as pd\n",
    "import seaborn as sns\n",
    "import statsmodels.api as sm\n",
    "from sklearn.metrics import (classification_report, confusion_matrix,\n",
    "                             roc_auc_score, roc_curve)\n",
    "\n",
    "\n",
    "plt.rc(\"font\", size=14)\n",
    "sns.set(style=\"white\")\n",
    "sns.set(style=\"whitegrid\", color_codes=True)"
   ]
  },
  {
   "cell_type": "code",
   "execution_count": 2,
   "metadata": {},
   "outputs": [],
   "source": [
    "# Load prepared data\n",
    "base_path = os.path.join('data', '3_train_and_test')\n",
    "\n",
    "Xt = pickle.load(open(os.path.join(base_path, 'Xt.pickle'), 'rb'))\n",
    "yt = pickle.load(open(os.path.join(base_path, 'yt.pickle'), 'rb'))\n",
    "Xtt = pickle.load(open(os.path.join(base_path, 'Xtt.pickle'), 'rb'))\n",
    "ytt = pickle.load(open(os.path.join(base_path, 'ytt.pickle'), 'rb'))"
   ]
  },
  {
   "cell_type": "code",
   "execution_count": 3,
   "metadata": {},
   "outputs": [
    {
     "data": {
      "text/html": [
       "<div>\n",
       "<style scoped>\n",
       "    .dataframe tbody tr th:only-of-type {\n",
       "        vertical-align: middle;\n",
       "    }\n",
       "\n",
       "    .dataframe tbody tr th {\n",
       "        vertical-align: top;\n",
       "    }\n",
       "\n",
       "    .dataframe thead th {\n",
       "        text-align: right;\n",
       "    }\n",
       "</style>\n",
       "<table border=\"1\" class=\"dataframe\">\n",
       "  <thead>\n",
       "    <tr style=\"text-align: right;\">\n",
       "      <th></th>\n",
       "      <th>const</th>\n",
       "      <th>tripduration in h</th>\n",
       "      <th>customer age</th>\n",
       "      <th>trip distance in km</th>\n",
       "      <th>trip speed kmh</th>\n",
       "      <th>feelslike</th>\n",
       "      <th>humidity</th>\n",
       "      <th>snowdepth</th>\n",
       "      <th>windspeed</th>\n",
       "      <th>age       x speed</th>\n",
       "      <th>...</th>\n",
       "      <th>start month: 02 february</th>\n",
       "      <th>start month: 03 march</th>\n",
       "      <th>start month: 04 april</th>\n",
       "      <th>start month: 06 june</th>\n",
       "      <th>start month: 07 july</th>\n",
       "      <th>start month: 08 august</th>\n",
       "      <th>start month: 09 september</th>\n",
       "      <th>start month: 10 october</th>\n",
       "      <th>start month: 11 november</th>\n",
       "      <th>start month: 12 december</th>\n",
       "    </tr>\n",
       "  </thead>\n",
       "  <tbody>\n",
       "    <tr>\n",
       "      <th>0</th>\n",
       "      <td>1.0</td>\n",
       "      <td>0.425000</td>\n",
       "      <td>49.0</td>\n",
       "      <td>0.835932</td>\n",
       "      <td>1.966898</td>\n",
       "      <td>43.1</td>\n",
       "      <td>58.5</td>\n",
       "      <td>0.0</td>\n",
       "      <td>11.7</td>\n",
       "      <td>96.378008</td>\n",
       "      <td>...</td>\n",
       "      <td>0</td>\n",
       "      <td>0</td>\n",
       "      <td>0</td>\n",
       "      <td>0</td>\n",
       "      <td>0</td>\n",
       "      <td>0</td>\n",
       "      <td>0</td>\n",
       "      <td>1</td>\n",
       "      <td>0</td>\n",
       "      <td>0</td>\n",
       "    </tr>\n",
       "    <tr>\n",
       "      <th>1</th>\n",
       "      <td>1.0</td>\n",
       "      <td>0.536389</td>\n",
       "      <td>49.0</td>\n",
       "      <td>2.383912</td>\n",
       "      <td>4.444371</td>\n",
       "      <td>80.2</td>\n",
       "      <td>59.9</td>\n",
       "      <td>0.0</td>\n",
       "      <td>12.8</td>\n",
       "      <td>217.774175</td>\n",
       "      <td>...</td>\n",
       "      <td>0</td>\n",
       "      <td>0</td>\n",
       "      <td>0</td>\n",
       "      <td>0</td>\n",
       "      <td>1</td>\n",
       "      <td>0</td>\n",
       "      <td>0</td>\n",
       "      <td>0</td>\n",
       "      <td>0</td>\n",
       "      <td>0</td>\n",
       "    </tr>\n",
       "    <tr>\n",
       "      <th>2</th>\n",
       "      <td>1.0</td>\n",
       "      <td>0.446667</td>\n",
       "      <td>27.0</td>\n",
       "      <td>2.983373</td>\n",
       "      <td>6.679189</td>\n",
       "      <td>77.3</td>\n",
       "      <td>45.5</td>\n",
       "      <td>0.0</td>\n",
       "      <td>7.2</td>\n",
       "      <td>180.338102</td>\n",
       "      <td>...</td>\n",
       "      <td>0</td>\n",
       "      <td>0</td>\n",
       "      <td>0</td>\n",
       "      <td>1</td>\n",
       "      <td>0</td>\n",
       "      <td>0</td>\n",
       "      <td>0</td>\n",
       "      <td>0</td>\n",
       "      <td>0</td>\n",
       "      <td>0</td>\n",
       "    </tr>\n",
       "    <tr>\n",
       "      <th>3</th>\n",
       "      <td>1.0</td>\n",
       "      <td>0.330278</td>\n",
       "      <td>49.0</td>\n",
       "      <td>2.794498</td>\n",
       "      <td>8.461047</td>\n",
       "      <td>65.1</td>\n",
       "      <td>49.6</td>\n",
       "      <td>0.0</td>\n",
       "      <td>18.3</td>\n",
       "      <td>414.591326</td>\n",
       "      <td>...</td>\n",
       "      <td>0</td>\n",
       "      <td>0</td>\n",
       "      <td>0</td>\n",
       "      <td>0</td>\n",
       "      <td>0</td>\n",
       "      <td>0</td>\n",
       "      <td>0</td>\n",
       "      <td>0</td>\n",
       "      <td>0</td>\n",
       "      <td>0</td>\n",
       "    </tr>\n",
       "    <tr>\n",
       "      <th>4</th>\n",
       "      <td>1.0</td>\n",
       "      <td>0.168333</td>\n",
       "      <td>30.0</td>\n",
       "      <td>1.040353</td>\n",
       "      <td>6.180326</td>\n",
       "      <td>74.5</td>\n",
       "      <td>89.2</td>\n",
       "      <td>0.0</td>\n",
       "      <td>25.3</td>\n",
       "      <td>185.409772</td>\n",
       "      <td>...</td>\n",
       "      <td>0</td>\n",
       "      <td>0</td>\n",
       "      <td>0</td>\n",
       "      <td>0</td>\n",
       "      <td>1</td>\n",
       "      <td>0</td>\n",
       "      <td>0</td>\n",
       "      <td>0</td>\n",
       "      <td>0</td>\n",
       "      <td>0</td>\n",
       "    </tr>\n",
       "  </tbody>\n",
       "</table>\n",
       "<p>5 rows × 54 columns</p>\n",
       "</div>"
      ],
      "text/plain": [
       "   const  tripduration in h  customer age  trip distance in km  \\\n",
       "0    1.0           0.425000          49.0             0.835932   \n",
       "1    1.0           0.536389          49.0             2.383912   \n",
       "2    1.0           0.446667          27.0             2.983373   \n",
       "3    1.0           0.330278          49.0             2.794498   \n",
       "4    1.0           0.168333          30.0             1.040353   \n",
       "\n",
       "   trip speed kmh  feelslike  humidity  snowdepth  windspeed  \\\n",
       "0        1.966898       43.1      58.5        0.0       11.7   \n",
       "1        4.444371       80.2      59.9        0.0       12.8   \n",
       "2        6.679189       77.3      45.5        0.0        7.2   \n",
       "3        8.461047       65.1      49.6        0.0       18.3   \n",
       "4        6.180326       74.5      89.2        0.0       25.3   \n",
       "\n",
       "   age       x speed  ...  start month: 02 february  start month: 03 march  \\\n",
       "0          96.378008  ...                         0                      0   \n",
       "1         217.774175  ...                         0                      0   \n",
       "2         180.338102  ...                         0                      0   \n",
       "3         414.591326  ...                         0                      0   \n",
       "4         185.409772  ...                         0                      0   \n",
       "\n",
       "   start month: 04 april  start month: 06 june  start month: 07 july  \\\n",
       "0                      0                     0                     0   \n",
       "1                      0                     0                     1   \n",
       "2                      0                     1                     0   \n",
       "3                      0                     0                     0   \n",
       "4                      0                     0                     1   \n",
       "\n",
       "   start month: 08 august  start month: 09 september  start month: 10 october  \\\n",
       "0                       0                          0                        1   \n",
       "1                       0                          0                        0   \n",
       "2                       0                          0                        0   \n",
       "3                       0                          0                        0   \n",
       "4                       0                          0                        0   \n",
       "\n",
       "   start month: 11 november  start month: 12 december  \n",
       "0                         0                         0  \n",
       "1                         0                         0  \n",
       "2                         0                         0  \n",
       "3                         0                         0  \n",
       "4                         0                         0  \n",
       "\n",
       "[5 rows x 54 columns]"
      ]
     },
     "execution_count": 3,
     "metadata": {},
     "output_type": "execute_result"
    }
   ],
   "source": [
    "Xt.head()"
   ]
  },
  {
   "cell_type": "markdown",
   "metadata": {
    "pycharm": {
     "name": "#%% md\n"
    }
   },
   "source": [
    "### Implementing the model"
   ]
  },
  {
   "cell_type": "code",
   "execution_count": 4,
   "metadata": {
    "pycharm": {
     "name": "#%%\n"
    }
   },
   "outputs": [
    {
     "name": "stdout",
     "output_type": "stream",
     "text": [
      "Optimization terminated successfully.\n",
      "         Current function value: 0.309112\n",
      "         Iterations 8\n",
      "                           Logit Regression Results                           \n",
      "==============================================================================\n",
      "Dep. Variable:          is subscriber   No. Observations:              3662618\n",
      "Model:                          Logit   Df Residuals:                  3662564\n",
      "Method:                           MLE   Df Model:                           53\n",
      "Date:                Sun, 11 Sep 2022   Pseudo R-squ.:                  0.5540\n",
      "Time:                        21:13:54   Log-Likelihood:            -1.1322e+06\n",
      "converged:                       True   LL-Null:                   -2.5387e+06\n",
      "Covariance Type:            nonrobust   LLR p-value:                     0.000\n",
      "=============================================================================================\n",
      "                                coef    std err          z      P>|z|      [0.025      0.975]\n",
      "---------------------------------------------------------------------------------------------\n",
      "const                        -2.1771      0.031    -70.078      0.000      -2.238      -2.116\n",
      "tripduration in h         -2.815e-05      0.000     -0.123      0.902      -0.000       0.000\n",
      "customer age                  0.0429      0.000    104.392      0.000       0.042       0.044\n",
      "trip distance in km          -0.7123      0.004   -181.044      0.000      -0.720      -0.705\n",
      "trip speed kmh                0.3715      0.003    121.660      0.000       0.365       0.377\n",
      "feelslike                    -0.0046      0.000    -13.201      0.000      -0.005      -0.004\n",
      "humidity                      0.0050      0.000     39.181      0.000       0.005       0.005\n",
      "snowdepth                     0.0978      0.005     21.665      0.000       0.089       0.107\n",
      "windspeed                     0.0107      0.000     24.342      0.000       0.010       0.012\n",
      "age       x speed             0.0009   5.26e-05     17.712      0.000       0.001       0.001\n",
      "distance  x speed             0.0261      0.000     68.170      0.000       0.025       0.027\n",
      "feelslike x speed            -0.0011   3.51e-05    -29.979      0.000      -0.001      -0.001\n",
      "gender: female               -0.1271      0.004    -33.621      0.000      -0.135      -0.120\n",
      "gender: unknown              -4.9410      0.007   -714.141      0.000      -4.955      -4.927\n",
      "start dow: 1 monday           0.5081      0.006     78.653      0.000       0.495       0.521\n",
      "start dow: 2 tuesday          0.6978      0.007    106.097      0.000       0.685       0.711\n",
      "start dow: 3 wednesday        0.7039      0.007    108.117      0.000       0.691       0.717\n",
      "start dow: 4 thursday         0.6701      0.006    103.898      0.000       0.657       0.683\n",
      "start dow: 5 friday           0.5151      0.006     80.733      0.000       0.503       0.528\n",
      "start dow: 6 saturday        -0.1123      0.006    -18.995      0.000      -0.124      -0.101\n",
      "start hour: 0                -0.7940      0.019    -42.428      0.000      -0.831      -0.757\n",
      "start hour: 1                -0.8168      0.024    -33.931      0.000      -0.864      -0.770\n",
      "start hour: 2                -0.8682      0.031    -28.283      0.000      -0.928      -0.808\n",
      "start hour: 3                -0.8314      0.040    -20.841      0.000      -0.910      -0.753\n",
      "start hour: 4                -0.9646      0.043    -22.670      0.000      -1.048      -0.881\n",
      "start hour: 5                -0.4660      0.031    -14.972      0.000      -0.527      -0.405\n",
      "start hour: 6                -0.3029      0.019    -16.328      0.000      -0.339      -0.267\n",
      "start hour: 7                -0.0266      0.014     -1.897      0.058      -0.054       0.001\n",
      "start hour: 9                -0.4283      0.011    -38.829      0.000      -0.450      -0.407\n",
      "start hour: 10               -0.9200      0.011    -83.056      0.000      -0.942      -0.898\n",
      "start hour: 11               -1.0419      0.011    -97.186      0.000      -1.063      -1.021\n",
      "start hour: 12               -1.0349      0.010    -99.690      0.000      -1.055      -1.015\n",
      "start hour: 13               -1.0274      0.010   -100.030      0.000      -1.048      -1.007\n",
      "start hour: 14               -1.0485      0.010   -102.531      0.000      -1.069      -1.028\n",
      "start hour: 15               -1.0069      0.010    -99.142      0.000      -1.027      -0.987\n",
      "start hour: 16               -0.8907      0.010    -89.029      0.000      -0.910      -0.871\n",
      "start hour: 17               -0.5916      0.010    -60.900      0.000      -0.611      -0.573\n",
      "start hour: 18               -0.4833      0.010    -49.111      0.000      -0.503      -0.464\n",
      "start hour: 19               -0.5087      0.010    -48.502      0.000      -0.529      -0.488\n",
      "start hour: 20               -0.5157      0.011    -45.202      0.000      -0.538      -0.493\n",
      "start hour: 21               -0.5709      0.012    -45.689      0.000      -0.595      -0.546\n",
      "start hour: 22               -0.6815      0.014    -50.287      0.000      -0.708      -0.655\n",
      "start hour: 23               -0.7391      0.016    -47.611      0.000      -0.770      -0.709\n",
      "start month: 01 january       1.1015      0.014     78.857      0.000       1.074       1.129\n",
      "start month: 02 february      0.8690      0.012     75.115      0.000       0.846       0.892\n",
      "start month: 03 march         0.5941      0.011     54.644      0.000       0.573       0.615\n",
      "start month: 04 april         0.1126      0.008     14.821      0.000       0.098       0.127\n",
      "start month: 06 june          0.0610      0.007      8.927      0.000       0.048       0.074\n",
      "start month: 07 july         -0.0833      0.007    -11.882      0.000      -0.097      -0.070\n",
      "start month: 08 august       -0.0413      0.007     -5.752      0.000      -0.055      -0.027\n",
      "start month: 09 september    -0.2256      0.007    -32.938      0.000      -0.239      -0.212\n",
      "start month: 10 october      -0.3552      0.007    -50.259      0.000      -0.369      -0.341\n",
      "start month: 11 november     -0.2355      0.010    -24.660      0.000      -0.254      -0.217\n",
      "start month: 12 december     -0.0441      0.012     -3.769      0.000      -0.067      -0.021\n",
      "=============================================================================================\n"
     ]
    }
   ],
   "source": [
    "# compute logistic regression\n",
    "logit_mod = sm.Logit(yt, Xt)\n",
    "logit_res = logit_mod.fit()\n",
    "print(logit_res.summary())"
   ]
  },
  {
   "cell_type": "markdown",
   "metadata": {
    "pycharm": {
     "name": "#%% md\n"
    }
   },
   "source": [
    "### Report Metrics"
   ]
  },
  {
   "cell_type": "code",
   "execution_count": 5,
   "metadata": {
    "pycharm": {
     "name": "#%%\n"
    }
   },
   "outputs": [
    {
     "name": "stdout",
     "output_type": "stream",
     "text": [
      "              precision    recall  f1-score   support\n",
      "\n",
      "           0       0.48      0.84      0.61    456533\n",
      "           1       0.98      0.90      0.94   4081941\n",
      "\n",
      "    accuracy                           0.89   4538474\n",
      "   macro avg       0.73      0.87      0.77   4538474\n",
      "weighted avg       0.93      0.89      0.91   4538474\n",
      "\n"
     ]
    }
   ],
   "source": [
    "yhat_prob = logit_res.predict(Xtt)\n",
    "yhat = np.round(yhat_prob).astype(int)\n",
    "\n",
    "print(classification_report(ytt, yhat))"
   ]
  },
  {
   "cell_type": "code",
   "execution_count": 6,
   "metadata": {
    "pycharm": {
     "name": "#%%\n"
    }
   },
   "outputs": [
    {
     "data": {
      "image/png": "[encoded data removed]",
      "text/plain": [
       "<Figure size 640x480 with 1 Axes>"
      ]
     },
     "metadata": {},
     "output_type": "display_data"
    }
   ],
   "source": [
    "logit_roc_auc = roc_auc_score(ytt, yhat)\n",
    "fpr, tpr, thresholds = roc_curve(ytt, yhat_prob)\n",
    "plt.figure()\n",
    "plt.plot(fpr, tpr, label='Logistic Regression (area = %0.2f)' % logit_roc_auc)\n",
    "plt.plot([0, 1], [0, 1],'r--')\n",
    "plt.xlim([0.0, 1.0])\n",
    "plt.ylim([0.0, 1.05])\n",
    "plt.xlabel('False Positive Rate')\n",
    "plt.ylabel('True Positive Rate')\n",
    "plt.title('Receiver operating characteristic')\n",
    "plt.legend(loc=\"lower right\")\n",
    "plt.show()"
   ]
  },
  {
   "cell_type": "markdown",
   "metadata": {
    "pycharm": {
     "name": "#%% md\n"
    }
   },
   "source": [
    "# Reminder on Precision, Recall and F1-Score\n",
    "\n",
    "Copied from ([A Look at Precision, Recall, and F1-Score](https://towardsdatascience.com/a-look-at-precision-recall-and-f1-score-36b5fd0dd3ec)) \n",
    "\n",
    "**Accuracy**\n",
    "\n",
    "$$ \\frac{\\text{number of correct predictions}}{\\text{size of dataset}} = \\frac{TP + TN}{TP + FP + TN + FN} $$\n",
    "\n",
    "**Precision**: Share of correctly predicted Subscribers.\n",
    "\n",
    "$$ \\frac{\\text{True Positives}}{\\text{True Positives + False Positives}}$$\n",
    "\n",
    "**Recall / Sensitivity**\n",
    "\n",
    "$$ \\frac{\\text{True Positives}}{\\text{True Positives + True Negatives}}$$\n",
    "\n",
    "**Specificity**\n",
    "\n",
    "$$ \\frac{\\text{True Negatives}}{\\text{True Negatives + False Positives}} $$\n",
    "\n",
    "**F1-Score**: Harmonic mean of Precision and Recall\n",
    "\n",
    "$$ \\frac{\\text{Precision * Recall}}{\\text{Precision + Recall}} $$"
   ]
  }
 ],
 "metadata": {
  "kernelspec": {
   "display_name": "Python 3 (ipykernel)",
   "language": "python",
   "name": "python3"
  },
  "language_info": {
   "codemirror_mode": {
    "name": "ipython",
    "version": 3
   },
   "file_extension": ".py",
   "mimetype": "text/x-python",
   "name": "python",
   "nbconvert_exporter": "python",
   "pygments_lexer": "ipython3",
   "version": "3.10.6"
  }
 },
 "nbformat": 4,
 "nbformat_minor": 4
}
